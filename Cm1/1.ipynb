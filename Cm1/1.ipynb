{
 "cells": [
  {
   "cell_type": "markdown",
   "metadata": {},
   "source": [
    "# Точные методы решения СЛАУ\n",
    "## Методы:\n",
    "### 1. Метод Гаусса\n",
    "### 2. Метод прогонки ( для трёхдиагональной матрицы A )\n",
    "### 3. Метод Холецкого ( А > 0 )\n",
    "### Постановка задачи:\n",
    "Пусть известны матрица вещественных чисел $A\\in \\rm I\\!R ^{n*n}$ и вектор правой части $f\\in \\rm I\\!R^n$ уравнения:\n",
    "$$Ax = f,$$\n",
    "Требуется найти вектор $x \\in \\rm I\\!R^n$, из этого уравнения.\n",
    "\n"
   ]
  },
  {
   "cell_type": "markdown",
   "metadata": {},
   "source": [
    "# Метод Гаусса\n"
   ]
  },
  {
   "cell_type": "code",
   "execution_count": 1,
   "metadata": {
    "scrolled": true
   },
   "outputs": [
    {
     "name": "stdout",
     "output_type": "stream",
     "text": [
      "My__time:  [0.02600264549255371, 0.11699819564819336, 0.2345130443572998, 0.528038501739502, 0.6670031547546387]\n",
      "Numpy_time:  [0.009536266326904297, 0.0010001659393310547, 0.0010008811950683594, 0.0010008811950683594, 0.001970529556274414]\n"
     ]
    },
    {
     "data": {
      "image/png": "[encoded data removed]",
      "text/plain": [
       "<Figure size 432x288 with 1 Axes>"
      ]
     },
     "metadata": {
      "needs_background": "light"
     },
     "output_type": "display_data"
    }
   ],
   "source": [
    "import numpy as np\n",
    "import time\n",
    "import matplotlib.pyplot as plt\n",
    "\n",
    "def gauss(A, f):\n",
    "    size = f.size    \n",
    "    x = np.zeros(size) \n",
    "\n",
    "    for k in range(size):\n",
    "        f[k] = f[k] / A[k][k] \n",
    "        A[k] = A[k] / A[k][k]\n",
    "        for i in range(k + 1, size):\n",
    "            f[i] = f[i] - f[k] * A[i][k]\n",
    "            A[i] = A[i] - A[k] * A[i][k]\n",
    "            A[i][k] = 0\n",
    "\n",
    "    for i in range(size - 1, -1, -1):\n",
    "        x[i] = f[i]\n",
    "        for j in range(i + 1, size):\n",
    "            x[i] = x[i] - A[i][j] * x[j]\n",
    "\n",
    "    return x\n",
    "\n",
    "def diag(A):\n",
    "    size = np.size(A[0])\n",
    "    for i in range(size):      \n",
    "        sum = 0         \n",
    "        for j in range(size):\n",
    "            if j != i:\n",
    "                sum += abs(A[i][j])\n",
    "        A[i][i] = abs(A[i][i]) + sum\n",
    "\n",
    "\n",
    "k = 100\n",
    "n = 5   \n",
    "my_time = [0] * n\n",
    "numpy_time = [0] * n\n",
    "gap = [i * k for i in range(1, n+1)]\n",
    "\n",
    "for i in range(0, n):\n",
    "    A = np.random.rand(k * (i+1), k * (i+1))\n",
    "    f = np.random.rand(k * (i+1))\n",
    "\n",
    "    diag(A)\n",
    "\n",
    "    start_time = time.time()\n",
    "    np_x = np.linalg.solve(A, f)\n",
    "    end_time = time.time()\n",
    "    numpy_time[i] = end_time - start_time\n",
    "    \n",
    "    start_time = time.time()\n",
    "    my_x = gauss(A, f)\n",
    "    end_time = time.time()\n",
    "    my_time[i] = end_time - start_time\n",
    "    \n",
    "print('My__time: ', my_time)\n",
    "print('Numpy_time: ', numpy_time)\n",
    "plt.plot(gap, my_time, 'ro-', label='Моя функция')\n",
    "plt.plot(gap, numpy_time, 'go-', label='numpy')\n",
    "plt.legend()\n",
    "\n",
    "plt.show()\n",
    "\n",
    "\n"
   ]
  },
  {
   "cell_type": "code",
   "execution_count": 13,
   "metadata": {},
   "outputs": [
    {
     "name": "stdout",
     "output_type": "stream",
     "text": [
      "My time:  [0.022448301315307617, 0.13799619674682617, 0.4795112609863281, 1.1075563430786133, 1.9730191230773926]\n",
      "l_time:  [0.0, 0.0, 0.001001119613647461, 0.0, 0.0009999275207519531]\n"
     ]
    },
    {
     "data": {
      "image/png": "[encoded data removed]",
      "text/plain": [
       "<Figure size 432x288 with 1 Axes>"
      ]
     },
     "metadata": {
      "needs_background": "light"
     },
     "output_type": "display_data"
    }
   ],
   "source": [
    "import numpy as np\n",
    "import time\n",
    "import matplotlib.pyplot as plt\n",
    "from scipy.linalg import solve_triangular\n",
    "\n",
    "def cholecky(A, f):\n",
    "    n = A.shape[0]\n",
    "    S = np.zeros((n, n))\n",
    "\n",
    "    for i in range(n): # Строим матрицу S\n",
    "        sum = 0\n",
    "        for k in range(i):\n",
    "            sum += S[k][i] ** 2\n",
    "        S[i][i] = (A[i][i] - sum) ** 0.5\n",
    "\n",
    "        for j in range(i+1, n):\n",
    "            sum = 0\n",
    "            for k in range(i):\n",
    "                sum += S[k][i] * S[k][j]\n",
    "            S[i][j] = (A[i][j] - sum) / S[i][i]\n",
    "            \n",
    "\n",
    "    y = np.zeros(n)\n",
    "    for i in range(n):\n",
    "        sum = 0\n",
    "        for k in range(i):\n",
    "            sum += S[k][i] * y[k]\n",
    "        y[i] = (f[i] - sum) / S[i][i]\n",
    "   \n",
    "\n",
    "    x = np.zeros(n)\n",
    "    for i in range(n):\n",
    "        sum = 0\n",
    "        for k in range(i+1, n):\n",
    "            sum += S[i][k] * x[k]\n",
    "        x[i] = (y[i] - sum) / S[i][i]\n",
    "        \n",
    "    return x\n",
    "\n",
    "\n",
    "\n",
    "def diag(A):\n",
    "    n = A.shape[0]\n",
    "    for i in range(n):      \n",
    "        sum = 0      \n",
    "        for j in range(n):\n",
    "            if j != i:\n",
    "                sum += abs(A[i][j])\n",
    "        A[i][i] = abs(A[i][i]) + sum\n",
    "    \n",
    "\n",
    "\n",
    "k=50\n",
    "n = 5\n",
    "my_time = [0] * n\n",
    "l_time = [0] * n\n",
    "gap = [i*k for i in range(1, n+1)]\n",
    "\n",
    "for i in range(0, n):\n",
    "    A = np.random.rand(k * (i+1), k * (i+1))\n",
    "    f = np.random.rand(k * (i+1))\n",
    "\n",
    "    diag(A)\n",
    "\n",
    "    start_time = time.time()\n",
    "    S = np.linalg.cholesky(A)\n",
    "    y = solve_triangular(S, f, lower=True)\n",
    "    S = np.transpose(S)\n",
    "    l_x = solve_triangular(S, y, lower=False)\n",
    "    end_time = time.time()\n",
    "    l_time[i] = end_time - start_time\n",
    "    \n",
    "    start_time = time.time()\n",
    "    my_x = cholecky(A, f)\n",
    "    end_time = time.time()\n",
    "    my_time[i] = end_time - start_time\n",
    "    \n",
    "print('My time: ', my_time)\n",
    "print('l_time: ', l_time)\n",
    "\n",
    "plt.plot(gap, my_time, 'ro-', label='Моя функция')\n",
    "plt.plot(gap, l_time, 'bo-', label='Library')\n",
    "plt.legend()\n",
    "\n",
    "plt.show()\n"
   ]
  },
  {
   "cell_type": "markdown",
   "metadata": {},
   "source": [
    "# Метод прогонки (3х диагональной матрицы)\n"
   ]
  },
  {
   "cell_type": "code",
   "execution_count": 3,
   "metadata": {
    "scrolled": true
   },
   "outputs": [
    {
     "name": "stdout",
     "output_type": "stream",
     "text": [
      "My time:  [0.0022649765014648438, 0.004011631011962891, 0.007997989654541016, 0.007992744445800781, 0.008990287780761719]\n",
      "l_time:  [0.0, 0.0, 0.0, 0.0, 0.0]\n"
     ]
    },
    {
     "data": {
      "image/png": "[encoded data removed]",
      "text/plain": [
       "<Figure size 432x288 with 1 Axes>"
      ]
     },
     "metadata": {
      "needs_background": "light"
     },
     "output_type": "display_data"
    }
   ],
   "source": [
    "import numpy as np\n",
    "import time\n",
    "import matplotlib.pyplot as plt\n",
    "from scipy.linalg import solve_banded\n",
    "\n",
    "def sweep (a, b, c, f):\n",
    "    n = f.size\n",
    "    \n",
    "    alpha = [0] * (n+1)\n",
    "    betta = [0] * (n+1)\n",
    "    x = [0] * (n+1)\n",
    "    a[0] = 0\n",
    "    c[n-1] = 0\n",
    "    alpha[0] = 0\n",
    "    betta[0] = 0\n",
    "    \n",
    "    for i in range(n):\n",
    "        d = a[i] * alpha[i] + b[i]\n",
    "        alpha[i+1] = -c[i] / d\n",
    "        betta[i+1] = (f[i] - a[i] * betta[i]) / d\n",
    "        \n",
    "    x[n] = 0\n",
    "    for i in range(n-1, -1, -1):\n",
    "        x[i] = alpha[i+1] * x[i+1] + betta[i+1]\n",
    "\n",
    "    x = x[:-1]\n",
    "    return x\n",
    "\n",
    "\n",
    "def diag(a, b, c):\n",
    "    n = len(b)\n",
    "    for i in range(n):\n",
    "        sum = abs(a[i]) + abs(c[i])\n",
    "        b[i] = abs(b[i]) + sum\n",
    "\n",
    "\n",
    "\n",
    "k = 500\n",
    "n = 5\n",
    "my_time = [0] * n\n",
    "l_time = [0] * n\n",
    "gap = [i*k for i in range(1, n+1)]\n",
    "\n",
    "for i in range(0, n):\n",
    "    size = k * (i+1)\n",
    "    a = np.random.rand(size)   # элемент с индексом 0 пропадет\n",
    "    b = np.random.rand(size)\n",
    "    c = np.random.rand(size)   # элемент с индексом n-1 пропадет\n",
    "    f = np.random.rand(size)\n",
    "        \n",
    "    diag(a, b, c)   # матрица теперь с диаг. преобладанием\n",
    "        \n",
    "    # для библиотечной solve_banded\n",
    "    af = np.random.rand(3, size)\n",
    "    af[0][1:] = c[:-1]\n",
    "    af[1] = b\n",
    "    af[2][:-1] = a[1:]\n",
    "    \n",
    "    start_time = time.time()\n",
    "    my_x = sweep(a, b, c, f)\n",
    "    end_time = time.time()\n",
    "    my_time[i] = end_time - start_time\n",
    "    \n",
    "    start_time = time.time()\n",
    "    np_x = solve_banded((1,1), af, f)\n",
    "    end_time = time.time()\n",
    "    l_time[i] = end_time - start_time\n",
    "    \n",
    "print('My time: ', my_time)\n",
    "print('l_time: ', l_time)\n",
    "\n",
    "plt.plot(gap, my_time, 'ro-', label='Моя функция')\n",
    "plt.plot(gap, l_time, 'bo-', label='Library')\n",
    "plt.legend()\n",
    "\n",
    "plt.show()\n",
    "    "
   ]
  },
  {
   "cell_type": "code",
   "execution_count": null,
   "metadata": {},
   "outputs": [],
   "source": []
  },
  {
   "cell_type": "code",
   "execution_count": null,
   "metadata": {},
   "outputs": [],
   "source": []
  }
 ],
 "metadata": {
  "kernelspec": {
   "display_name": "Python 3",
   "language": "python",
   "name": "python3"
  },
  "language_info": {
   "codemirror_mode": {
    "name": "ipython",
    "version": 3
   },
   "file_extension": ".py",
   "mimetype": "text/x-python",
   "name": "python",
   "nbconvert_exporter": "python",
   "pygments_lexer": "ipython3",
   "version": "3.7.6"
  }
 },
 "nbformat": 4,
 "nbformat_minor": 4
}
